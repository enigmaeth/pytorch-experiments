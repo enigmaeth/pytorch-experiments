{
 "cells": [
  {
   "cell_type": "markdown",
   "metadata": {},
   "source": [
    "# Neural networks with PyTorch\n",
    "\n",
    "Deep learning networks tend to be massive with dozens or hundreds of layers, that's where the term \"deep\" comes from. You can build one of these deep networks using only weight matrices as we did in the previous notebook, but in general it's very cumbersome and difficult to implement. PyTorch has a nice module `nn` that provides a nice way to efficiently build large neural networks."
   ]
  },
  {
   "cell_type": "code",
   "execution_count": 1,
   "metadata": {
    "ExecuteTime": {
     "end_time": "2018-11-25T13:53:43.546177Z",
     "start_time": "2018-11-25T13:53:41.367451Z"
    }
   },
   "outputs": [],
   "source": [
    "# Import necessary packages\n",
    "\n",
    "%matplotlib inline\n",
    "%config InlineBackend.figure_format = 'retina'\n",
    "\n",
    "import numpy as np\n",
    "import torch\n",
    "\n",
    "import helper\n",
    "\n",
    "import matplotlib.pyplot as plt"
   ]
  },
  {
   "cell_type": "markdown",
   "metadata": {},
   "source": [
    "\n",
    "Now we're going to build a larger network that can solve a (formerly) difficult problem, identifying text in an image. Here we'll use the MNIST dataset which consists of greyscale handwritten digits. Each image is 28x28 pixels, you can see a sample below\n",
    "\n",
    "<img src='assets/mnist.png'>\n",
    "\n",
    "Our goal is to build a neural network that can take one of these images and predict the digit in the image.\n",
    "\n",
    "First up, we need to get our dataset. This is provided through the `torchvision` package. The code below will download the MNIST dataset, then create training and test datasets for us. Don't worry too much about the details here, you'll learn more about this later."
   ]
  },
  {
   "cell_type": "code",
   "execution_count": 3,
   "metadata": {
    "ExecuteTime": {
     "end_time": "2018-11-25T13:58:46.824640Z",
     "start_time": "2018-11-25T13:57:06.276541Z"
    }
   },
   "outputs": [
    {
     "name": "stdout",
     "output_type": "stream",
     "text": [
      "Downloading http://yann.lecun.com/exdb/mnist/train-images-idx3-ubyte.gz\n",
      "Downloading http://yann.lecun.com/exdb/mnist/train-labels-idx1-ubyte.gz\n",
      "Downloading http://yann.lecun.com/exdb/mnist/t10k-images-idx3-ubyte.gz\n",
      "Downloading http://yann.lecun.com/exdb/mnist/t10k-labels-idx1-ubyte.gz\n",
      "Processing...\n",
      "Done!\n"
     ]
    }
   ],
   "source": [
    "### Run this cell\n",
    "\n",
    "from torchvision import datasets, transforms\n",
    "\n",
    "# Define a transform to normalize the data\n",
    "transform = transforms.Compose([transforms.ToTensor(),\n",
    "                              transforms.Normalize((0.5,), (0.5,)),\n",
    "                              ])\n",
    "\n",
    "# Download and load the training data\n",
    "trainset = datasets.MNIST('~/.pytorch/MNIST_data/', download=False, train=True, transform=transform)\n",
    "trainloader = torch.utils.data.DataLoader(trainset, batch_size=64, shuffle=True)"
   ]
  },
  {
   "cell_type": "markdown",
   "metadata": {},
   "source": [
    "We have the training data loaded into `trainloader` and we make that an iterator with `iter(trainloader)`. Later, we'll use this to loop through the dataset for training, like\n",
    "\n",
    "```python\n",
    "for image, label in trainloader:\n",
    "    ## do things with images and labels\n",
    "```\n",
    "\n",
    "You'll notice I created the `trainloader` with a batch size of 64, and `shuffle=True`. The batch size is the number of images we get in one iteration from the data loader and pass through our network, often called a *batch*. And `shuffle=True` tells it to shuffle the dataset every time we start going through the data loader again. But here I'm just grabbing the first batch so we can check out the data. We can see below that `images` is just a tensor with size `(64, 1, 28, 28)`. So, 64 images per batch, 1 color channel, and 28x28 images."
   ]
  },
  {
   "cell_type": "code",
   "execution_count": 4,
   "metadata": {
    "ExecuteTime": {
     "end_time": "2018-11-25T13:58:51.678609Z",
     "start_time": "2018-11-25T13:58:51.493760Z"
    }
   },
   "outputs": [
    {
     "name": "stdout",
     "output_type": "stream",
     "text": [
      "<class 'torch.Tensor'>\n",
      "torch.Size([64, 1, 28, 28])\n",
      "torch.Size([64])\n"
     ]
    }
   ],
   "source": [
    "dataiter = iter(trainloader)\n",
    "images, labels = dataiter.next()\n",
    "print(type(images))\n",
    "print(images.shape)\n",
    "print(labels.shape)"
   ]
  },
  {
   "cell_type": "markdown",
   "metadata": {},
   "source": [
    "This is what one of the images looks like. "
   ]
  },
  {
   "cell_type": "code",
   "execution_count": 5,
   "metadata": {
    "ExecuteTime": {
     "end_time": "2018-11-25T13:58:58.279777Z",
     "start_time": "2018-11-25T13:58:57.610669Z"
    }
   },
   "outputs": [
    {
     "data": {
      "image/png": "[encoded data removed]",
      "text/plain": [
       "<Figure size 432x288 with 1 Axes>"
      ]
     },
     "metadata": {
      "image/png": {
       "height": 250,
       "width": 253
      },
      "needs_background": "light"
     },
     "output_type": "display_data"
    }
   ],
   "source": [
    "plt.imshow(images[1].numpy().squeeze(), cmap='Greys_r');"
   ]
  },
  {
   "cell_type": "markdown",
   "metadata": {},
   "source": [
    "First, let's try to build a simple network for this dataset using weight matrices and matrix multiplications. Then, we'll see how to do it using PyTorch's `nn` module which provides a much more convenient and powerful method for defining network architectures.\n",
    "\n",
    "The networks you've seen so far are called *fully-connected* or *dense* networks. Each unit in one layer is connected to each unit in the next layer. In fully-connected networks, the input to each layer must be a one-dimensional vector (which can be stacked into a 2D tensor as a batch of multiple examples). However, our images are 28x28 2D tensors, so we need to convert them into 1D vectors. Thinking about sizes, we need to convert the batch of images with shape `(64, 1, 28, 28)` to a have a shape of `(64, 784)`, 784 is 28 times 28. This is typically called *flattening*, we flattened the 2D images into 1D vectors.\n",
    "\n",
    "Previously you built a network with one output unit. Here we need 10 output units, one for each digit. We want our network to predict the digit shown in an image, so what we'll do is calculate probabilities that the image is of any one digit or class. This ends up being a discrete probability distribution over the classes (digits) that tells us the most likely class for the image. That means we need 10 output units for the 10 classes (digits). We'll see how to convert the network output into a probability distribution next.\n",
    "\n",
    "> **Exercise:** Flatten the batch of images `images`. Then build a multi-layer network with 784 input units, 256 hidden units, and 10 output units using random tensors for the weights and biases. For now, use a sigmoid activation for the hidden layer. Leave the output layer without an activation, we'll add one that gives us a probability distribution next."
   ]
  },
  {
   "cell_type": "code",
   "execution_count": 22,
   "metadata": {
    "ExecuteTime": {
     "end_time": "2018-11-25T14:16:28.211034Z",
     "start_time": "2018-11-25T14:16:28.184088Z"
    }
   },
   "outputs": [
    {
     "name": "stdout",
     "output_type": "stream",
     "text": [
      "torch.Size([64, 784]) torch.Size([784, 256]) torch.Size([64, 256])\n",
      "torch.Size([64, 256]) torch.Size([256, 10]) torch.Size([64, 10])\n",
      "torch.Size([64, 10])\n",
      "tensor([[  4.5020,  13.0447, -13.7355,  -2.4919, -12.1425,   1.0628, -12.3152,\n",
      "           6.4175, -10.5943,   3.9630],\n",
      "        [ -3.1474,  15.6228, -10.7905,   7.9474, -12.4369, -18.2093,  -7.1936,\n",
      "           5.0652,   2.4790,   7.2420],\n",
      "        [ -8.4817,  14.8715, -14.3946,   0.8772, -11.3089,  -8.6593,  -7.6344,\n",
      "           4.1484,   2.6466,   1.8064],\n",
      "        [ -1.3995,  23.5588,  -7.9101,  -0.8813, -26.9217, -10.9787, -12.7130,\n",
      "           4.0432,  -8.3624,  -0.8874],\n",
      "        [-11.3110,  20.1546,   1.3862,  -0.4909, -13.4147, -16.3462,  -9.9908,\n",
      "           3.2535,  -8.5395,   5.7610],\n",
      "        [  0.3245,  29.0584, -10.0983,  -0.9802, -25.6599, -16.0622,  -9.8255,\n",
      "          -0.1058,  -0.4870,   7.2911],\n",
      "        [ -4.6155,  18.7984,   2.7189,  -3.0837, -21.0380,  -9.0843,  -6.9494,\n",
      "          -1.3797,   2.7008,   5.0004],\n",
      "        [  5.9548,  24.9322,  -7.0146,  -0.7643, -13.9472,  -7.6980,  -8.7344,\n",
      "           6.0368,   1.8947,   5.4033],\n",
      "        [ -5.6189,  15.4859, -19.9337,   2.0401, -17.5636, -10.3810, -12.7654,\n",
      "           6.0126,  -2.0318,  -7.8269],\n",
      "        [ -3.8752,  15.6737, -13.3846,   0.0141,  -4.7418, -20.7302,  -6.2860,\n",
      "           6.5836,  -2.8413,  -1.6267],\n",
      "        [ -4.4941,  20.5241, -11.0631,  -2.3123, -19.4246,  -9.8934,  -8.9049,\n",
      "           2.2099,  -2.0756,  -2.4709],\n",
      "        [  3.1168,  22.3020,   1.4275,  -3.6017, -14.1052,   4.2888, -12.0936,\n",
      "          -0.6733,   3.2234,   5.2796],\n",
      "        [ -5.0986,   6.9336,  -1.4917,   3.1404, -22.0530,   2.8944,   4.5347,\n",
      "          -4.9179,  -5.6528,   3.2232],\n",
      "        [  5.5895,  10.3998, -10.9514,  -3.3411, -28.6516,  -1.0930,  -7.7066,\n",
      "          -5.6843,   0.7044,   9.7741],\n",
      "        [-10.6269,  22.6669, -14.7845,  -4.0128, -21.9689,  -4.6116,  -8.8607,\n",
      "           8.2669, -12.5710,   8.5828],\n",
      "        [ -8.9869,  19.6691,  -5.7679,  -4.9396, -15.9479,  -5.0761,  -7.7157,\n",
      "           3.8279,  -5.9979,  -5.2291],\n",
      "        [ -5.5557,  23.4604,  -8.0246,   1.2010, -29.0550, -16.2549, -11.5003,\n",
      "           2.3696,  -3.8303,   0.1874],\n",
      "        [-10.3777,  12.7527, -14.9503,  -1.4149, -21.5994,  -4.1233,  -1.2367,\n",
      "          -0.3664,  -9.4579,   5.8824],\n",
      "        [ -4.9383,  21.9502, -14.2557,   2.4542, -26.5669, -12.7292,  -6.9738,\n",
      "          -6.3089,  -1.3916,   5.9747],\n",
      "        [ -6.1489,  12.9912, -11.8532,  -7.2814, -25.1233,   0.2836, -11.8583,\n",
      "           4.5329,  -5.2577,  -3.2663],\n",
      "        [ -1.4740,  13.2682, -26.3729,  -6.4782, -14.9683,  -1.7302, -14.3383,\n",
      "           5.1431, -10.8224,  11.1402],\n",
      "        [ -7.4300,  24.7691,  -6.7939,   5.8902, -14.5036, -16.9867, -10.1947,\n",
      "           7.9004,   1.4236,   8.0228],\n",
      "        [ -4.6819,  12.9335,  -4.1655,  -1.0809, -19.7129, -12.1360,  -6.0968,\n",
      "         -10.8492,   2.1234,   3.9000],\n",
      "        [ -4.5213,  18.3126,  -2.7655, -10.0432, -10.6976,  -5.3033, -10.8460,\n",
      "          -0.5410,  -4.8941,  -5.0786],\n",
      "        [-10.3029,  22.8283,   4.0810,  -5.8002, -17.7636, -10.9293,  -5.9419,\n",
      "          -2.8361,  -0.6929,   5.0914],\n",
      "        [ -8.2895,  28.7282, -19.3305,  -0.4686, -16.1428, -18.9283, -15.7315,\n",
      "          12.7484,  -0.4817,   1.0766],\n",
      "        [ -5.7874,  26.7953,  -6.0637,   0.8766, -12.3218,  -4.2527,  -5.7397,\n",
      "           7.8533,  -5.4758,   4.8471],\n",
      "        [ -4.6845,  20.8110,  -9.9258,  -2.4479, -15.2950, -12.0324, -14.7603,\n",
      "           9.9481,  -8.4186,   4.4915],\n",
      "        [ -5.1015,  30.5176,  -8.9940,  -0.5462, -18.8679,  -9.1262,  -6.6542,\n",
      "           1.0321,  -2.2906,   4.6594],\n",
      "        [ -5.7014,  33.7793,  -8.4079,  -2.6537, -27.8441, -15.1584,  -9.3921,\n",
      "          -2.1274,  -3.9727,   5.0598],\n",
      "        [-10.3864,  22.5603,  -7.9095,  -2.2645, -27.2634,  -7.1434, -11.2113,\n",
      "           4.9138, -10.1621,  -2.4834],\n",
      "        [-10.1945,  30.7330,  -1.6736,   1.5344, -16.4951,  -7.8564, -11.6659,\n",
      "          -4.0700,  -2.5785,   5.5294],\n",
      "        [ -5.6975,  20.4114,  -3.2402,  -0.9618, -28.2426,  -1.5740,   0.0803,\n",
      "          -1.1174,  -0.5514,  -0.4552],\n",
      "        [ -5.4885,  24.7958,  -1.4197,  -9.2761,  -8.2884,  -1.5177, -13.9041,\n",
      "          -2.9232,  -8.0975,   2.8167],\n",
      "        [ -9.7692,  22.5149,  -9.3835,  -0.0380, -13.9575,  -8.8989,  -7.0927,\n",
      "          -7.3519,  -4.0466,   5.7540],\n",
      "        [ -2.9182,   4.6799,  -8.3756,   0.4896, -22.0287, -13.0080, -10.1447,\n",
      "          -5.0117,  -0.7917,  -6.4591],\n",
      "        [ -0.6723,  26.3876, -14.3972,  -2.2434,  -8.9698,  -6.8781, -13.8651,\n",
      "           7.2994,  -3.2550,   2.8491],\n",
      "        [ -6.8761,  19.2998,  -8.8493,  -7.1706, -10.3473,  -6.6145,  -3.6854,\n",
      "           6.5867,  -5.3680,  -0.5924],\n",
      "        [ -2.2094,  19.0779,  -3.2657,  -5.2748, -20.6570,  -8.1739, -14.3343,\n",
      "          -4.3259,  -4.5983,  11.5531],\n",
      "        [ -8.7414,  20.8984, -13.1894,  -2.5650, -20.9419, -10.4408, -13.7530,\n",
      "           5.1835, -11.4624,  -0.4031],\n",
      "        [ -9.3340,  24.5735,  -7.7013,  -7.5755, -17.7408,  -8.1677,  -8.3673,\n",
      "           1.7082, -10.3821,   1.5923],\n",
      "        [  4.5569,  21.6825, -15.9432,  -0.2711,  -8.5420,   1.2749,  -5.4889,\n",
      "           2.1724,  -3.9565,  16.2579],\n",
      "        [ -4.7162,  23.1730, -12.4261,  -2.3906, -11.1739, -12.4816, -13.4139,\n",
      "           5.2646, -14.4518,  10.2485],\n",
      "        [-15.0578,  25.4739,  -2.6028,   4.0928, -20.1057, -21.3186,   0.8450,\n",
      "           3.9689,  -4.5768,   5.7624],\n",
      "        [ -2.8462,  24.5807, -10.4599,  -3.0414, -12.7890,  -6.9741, -10.7026,\n",
      "           1.9750,  -9.9020,   2.2684],\n",
      "        [ -2.2258,  19.7647, -14.2400,   0.8722,  -9.0963,  -8.6206,  -9.3764,\n",
      "           3.5680,   1.6623,  -4.4153],\n",
      "        [  6.7939,  18.5887, -20.0570,  -8.8558, -11.8872,   0.4693, -17.0868,\n",
      "          -0.6559,   3.6048,   1.7440],\n",
      "        [  6.6776,  27.7293,  -1.5912,  -6.3591, -26.4591, -17.8288, -17.4666,\n",
      "           0.3898,   0.4790,   0.7800],\n",
      "        [  0.2516,  23.8482, -10.2520,  -7.1717, -10.3864, -15.0603,  -5.5556,\n",
      "           3.1680,  -2.7582,   9.6561],\n",
      "        [-14.6053,   7.6665, -15.5142,   6.8453,  -9.3092,  -5.9654,  -8.0728,\n",
      "           1.5364,   3.2054,  -1.5986],\n",
      "        [-10.5179,  29.0002,  -9.8096,  -1.2154, -21.5077, -20.0600,  -8.2899,\n",
      "          -0.2518,  -8.3897,   9.4802],\n",
      "        [ -5.5674,   7.9724, -17.4236,  -3.4793, -15.2695,  -5.3130,  -7.6525,\n",
      "           1.1823,  -9.3683,   2.0575],\n",
      "        [ -6.6838,   9.8079, -14.0778,  -3.6888, -15.0468,  -9.7944,  -4.0299,\n",
      "           6.2649,   0.4616,   1.8227],\n",
      "        [  2.2374,  22.6262,  -8.1655,  -8.5072, -23.9499,  -7.2208,  -9.3780,\n",
      "          -0.6636,  -7.2551,   7.9742],\n",
      "        [  4.8895,  25.1596, -10.7963,  -4.0324, -12.1647,   2.7274, -17.2984,\n",
      "          -8.5958,   3.3311,   5.4719],\n",
      "        [ -6.2828,  23.4247, -11.4789,  -6.9264, -16.5017,  -7.3906,  -7.7492,\n",
      "           6.9886, -12.4285,  -7.9967],\n",
      "        [  0.2903,  21.1166,  -4.4666,   2.0550, -17.6371,  -8.5806, -12.8538,\n",
      "          -0.3966,  -5.9381,   9.0024],\n",
      "        [ -0.7916,  12.0291, -26.0635,  -2.4007,   4.5562,  -7.9723,  -9.9843,\n",
      "           0.8295,   6.1802,  -4.1326],\n",
      "        [ -1.7289,  13.3496,  -7.1279,   0.6904, -16.6771,  -3.3439,  -7.5445,\n",
      "           7.3809,  -6.5806,   0.1529],\n",
      "        [  2.8459,  22.8138, -12.1013,   4.9204, -16.4937, -14.6514,  -5.1270,\n",
      "          -4.2018,  -5.0661,   5.9562],\n",
      "        [ -6.9554,  25.4114,  -2.2174,  -1.8120, -23.1790, -10.1028,  -2.9306,\n",
      "          -5.6862, -14.6597,   5.7219],\n",
      "        [-12.1181,  20.2118,  -5.0597,  -2.3943, -17.4128,  -7.8919,  -6.1753,\n",
      "           1.6811,  -1.4523,  10.8688],\n",
      "        [ -6.3404,  23.3918,   2.1082,  -1.0634, -18.1649,  -7.4467, -11.4615,\n",
      "          -2.2350,   4.3481,  13.2464],\n",
      "        [-11.0387,  27.3840,  -3.8364,   4.1829, -14.3353, -10.3513,  -3.8958,\n",
      "           2.7755,  -8.3786,  -0.5148]])\n"
     ]
    }
   ],
   "source": [
    "## Your solution\n",
    "def activation(x):\n",
    "    return 1/(1+torch.exp(x))\n",
    "\n",
    "def output(f, w, b):\n",
    "    print(f.shape, w.shape, b.shape)\n",
    "    return torch.mm(f, w) + b\n",
    "\n",
    "features = images.view((64, 784))\n",
    "n_input = 784\n",
    "n_hidden = 256\n",
    "n_output = 10\n",
    "\n",
    "w1 = torch.randn((n_input, n_hidden))\n",
    "w2 = torch.randn((n_hidden, n_output))\n",
    "\n",
    "b1 = torch.randn(features.shape[0], n_hidden)\n",
    "b2 = torch.randn(features.shape[0], n_output)\n",
    "\n",
    "l1 =  activation(output(features, w1, b1))\n",
    "output = output(l1, w2, b2)\n",
    "print(output.shape)\n",
    "print(output)\n",
    "\n",
    "# out = # output of your network, should have shape (64,10)"
   ]
  },
  {
   "cell_type": "markdown",
   "metadata": {},
   "source": [
    "Now we have 10 outputs for our network. We want to pass in an image to our network and get out a probability distribution over the classes that tells us the likely class(es) the image belongs to. Something that looks like this:\n",
    "<img src='assets/image_distribution.png' width=500px>\n",
    "\n",
    "Here we see that the probability for each class is roughly the same. This is representing an untrained network, it hasn't seen any data yet so it just returns a uniform distribution with equal probabilities for each class.\n",
    "\n",
    "To calculate this probability distribution, we often use the [**softmax** function](https://en.wikipedia.org/wiki/Softmax_function). Mathematically this looks like\n",
    "\n",
    "$$\n",
    "\\Large \\sigma(x_i) = \\cfrac{e^{x_i}}{\\sum_k^K{e^{x_k}}}\n",
    "$$\n",
    "\n",
    "What this does is squish each input $x_i$ between 0 and 1 and normalizes the values to give you a proper probability distribution where the probabilites sum up to one.\n",
    "\n",
    "> **Exercise:** Implement a function `softmax` that performs the softmax calculation and returns probability distributions for each example in the batch. Note that you'll need to pay attention to the shapes when doing this. If you have a tensor `a` with shape `(64, 10)` and a tensor `b` with shape `(64,)`, doing `a/b` will give you an error because PyTorch will try to do the division across the columns (called broadcasting) but you'll get a size mismatch. The way to think about this is for each of the 64 examples, you only want to divide by one value, the sum in the denominator. So you need `b` to have a shape of `(64, 1)`. This way PyTorch will divide the 10 values in each row of `a` by the one value in each row of `b`. Pay attention to how you take the sum as well. You'll need to define the `dim` keyword in `torch.sum`. Setting `dim=0` takes the sum across the rows while `dim=1` takes the sum across the columns."
   ]
  },
  {
   "cell_type": "code",
   "execution_count": 23,
   "metadata": {
    "ExecuteTime": {
     "end_time": "2018-11-25T14:16:33.887200Z",
     "start_time": "2018-11-25T14:16:33.873595Z"
    }
   },
   "outputs": [
    {
     "name": "stdout",
     "output_type": "stream",
     "text": [
      "torch.Size([64, 10])\n",
      "tensor([8.8684e-10, 1.1671e-08, 5.5021e-09, 3.2609e-05, 1.0838e-06, 7.9764e-03,\n",
      "        2.7922e-07, 1.2877e-04, 1.0171e-08, 1.2273e-08, 1.5683e-06, 9.2800e-06,\n",
      "        2.2696e-12, 9.7022e-11, 1.3366e-05, 6.6689e-07, 2.9553e-05, 6.6187e-10,\n",
      "        6.5274e-06, 8.3946e-10, 1.2393e-09, 1.0939e-04, 7.9229e-10, 1.7177e-07,\n",
      "        1.5708e-05, 5.7331e-03, 8.2978e-04, 2.0894e-06, 3.4317e-02, 8.9547e-01,\n",
      "        1.2015e-05, 4.2567e-02, 1.4010e-06, 1.1235e-04, 1.1481e-05, 2.1034e-13,\n",
      "        5.5191e-04, 4.6098e-07, 3.6946e-07, 2.2801e-06, 8.9959e-05, 5.0163e-06,\n",
      "        2.2173e-05, 2.2134e-04, 9.0605e-05, 7.3380e-07, 2.2640e-07, 2.1114e-03,\n",
      "        4.3554e-05, 5.9414e-12, 7.5250e-03, 5.5707e-12, 3.5808e-11, 1.2833e-05,\n",
      "        1.6165e-04, 2.8518e-05, 2.8360e-06, 3.2178e-10, 1.2041e-09, 1.5481e-05,\n",
      "        2.0793e-04, 1.1476e-06, 2.7595e-05, 1.4949e-03])\n",
      "tensor(1.0000)\n"
     ]
    }
   ],
   "source": [
    "def softmax(x):\n",
    "    ## TODO: Implement the softmax function here\n",
    "    return torch.exp(x)/(torch.sum(torch.exp(x)))\n",
    "\n",
    "# Here, out should be the output of the network in the previous excercise with shape (64,10)\n",
    "probabilities = softmax(output)\n",
    "\n",
    "# Does it have the right shape? Should be (64, 10)\n",
    "print(probabilities.shape)\n",
    "# Does it sum to 1?\n",
    "print(probabilities.sum(dim=1))\n",
    "print(torch.sum(probabilities.sum(dim=1)))"
   ]
  },
  {
   "cell_type": "markdown",
   "metadata": {},
   "source": [
    "## Building networks with PyTorch\n",
    "\n",
    "PyTorch provides a module `nn` that makes building networks much simpler. Here I'll show you how to build the same one as above with 784 inputs, 256 hidden units, 10 output units and a softmax output."
   ]
  },
  {
   "cell_type": "code",
   "execution_count": 21,
   "metadata": {
    "ExecuteTime": {
     "end_time": "2018-11-25T14:15:39.583240Z",
     "start_time": "2018-11-25T14:15:39.580335Z"
    }
   },
   "outputs": [],
   "source": [
    "from torch import nn"
   ]
  },
  {
   "cell_type": "code",
   "execution_count": 24,
   "metadata": {
    "ExecuteTime": {
     "end_time": "2018-11-25T14:16:44.993829Z",
     "start_time": "2018-11-25T14:16:44.985501Z"
    }
   },
   "outputs": [],
   "source": [
    "class Network(nn.Module):\n",
    "    def __init__(self):\n",
    "        super().__init__()\n",
    "        \n",
    "        # Inputs to hidden layer linear transformation\n",
    "        self.hidden = nn.Linear(784, 256)\n",
    "        # Output layer, 10 units - one for each digit\n",
    "        self.output = nn.Linear(256, 10)\n",
    "        \n",
    "        # Define sigmoid activation and softmax output \n",
    "        self.sigmoid = nn.Sigmoid()\n",
    "        self.softmax = nn.Softmax(dim=1)\n",
    "        \n",
    "    def forward(self, x):\n",
    "        # Pass the input tensor through each of our operations\n",
    "        x = self.hidden(x)\n",
    "        x = self.sigmoid(x)\n",
    "        x = self.output(x)\n",
    "        x = self.softmax(x)\n",
    "        \n",
    "        return x"
   ]
  },
  {
   "cell_type": "markdown",
   "metadata": {},
   "source": [
    "Let's go through this bit by bit.\n",
    "\n",
    "```python\n",
    "class Network(nn.Module):\n",
    "```\n",
    "\n",
    "Here we're inheriting from `nn.Module`. Combined with `super().__init__()` this creates a class that tracks the architecture and provides a lot of useful methods and attributes. It is mandatory to inherit from `nn.Module` when you're creating a class for your network. The name of the class itself can be anything.\n",
    "\n",
    "```python\n",
    "self.hidden = nn.Linear(784, 256)\n",
    "```\n",
    "\n",
    "This line creates a module for a linear transformation, $x\\mathbf{W} + b$, with 784 inputs and 256 outputs and assigns it to `self.hidden`. The module automatically creates the weight and bias tensors which we'll use in the `forward` method. You can access the weight and bias tensors once the network (`net`) is created with `net.hidden.weight` and `net.hidden.bias`.\n",
    "\n",
    "```python\n",
    "self.output = nn.Linear(256, 10)\n",
    "```\n",
    "\n",
    "Similarly, this creates another linear transformation with 256 inputs and 10 outputs.\n",
    "\n",
    "```python\n",
    "self.sigmoid = nn.Sigmoid()\n",
    "self.softmax = nn.Softmax(dim=1)\n",
    "```\n",
    "\n",
    "Here I defined operations for the sigmoid activation and softmax output. Setting `dim=1` in `nn.Softmax(dim=1)` calculates softmax across the columns.\n",
    "\n",
    "```python\n",
    "def forward(self, x):\n",
    "```\n",
    "\n",
    "PyTorch networks created with `nn.Module` must have a `forward` method defined. It takes in a tensor `x` and passes it through the operations you defined in the `__init__` method.\n",
    "\n",
    "```python\n",
    "x = self.hidden(x)\n",
    "x = self.sigmoid(x)\n",
    "x = self.output(x)\n",
    "x = self.softmax(x)\n",
    "```\n",
    "\n",
    "Here the input tensor `x` is passed through each operation a reassigned to `x`. We can see that the input tensor goes through the hidden layer, then a sigmoid function, then the output layer, and finally the softmax function. It doesn't matter what you name the variables here, as long as the inputs and outputs of the operations match the network architecture you want to build. The order in which you define things in the `__init__` method doesn't matter, but you'll need to sequence the operations correctly in the `forward` method.\n",
    "\n",
    "Now we can create a `Network` object."
   ]
  },
  {
   "cell_type": "code",
   "execution_count": 25,
   "metadata": {
    "ExecuteTime": {
     "end_time": "2018-11-25T14:17:07.713972Z",
     "start_time": "2018-11-25T14:17:07.704834Z"
    }
   },
   "outputs": [
    {
     "data": {
      "text/plain": [
       "Network(\n",
       "  (hidden): Linear(in_features=784, out_features=256, bias=True)\n",
       "  (output): Linear(in_features=256, out_features=10, bias=True)\n",
       "  (sigmoid): Sigmoid()\n",
       "  (softmax): Softmax()\n",
       ")"
      ]
     },
     "execution_count": 25,
     "metadata": {},
     "output_type": "execute_result"
    }
   ],
   "source": [
    "# Create the network and look at it's text representation\n",
    "model = Network()\n",
    "model"
   ]
  },
  {
   "cell_type": "markdown",
   "metadata": {},
   "source": [
    "You can define the network somewhat more concisely and clearly using the `torch.nn.functional` module. This is the most common way you'll see networks defined as many operations are simple element-wise functions. We normally import this module as `F`, `import torch.nn.functional as F`."
   ]
  },
  {
   "cell_type": "code",
   "execution_count": 26,
   "metadata": {
    "ExecuteTime": {
     "end_time": "2018-11-25T14:17:40.760567Z",
     "start_time": "2018-11-25T14:17:40.756351Z"
    }
   },
   "outputs": [],
   "source": [
    "import torch.nn.functional as F\n",
    "\n",
    "class Network(nn.Module):\n",
    "    def __init__(self):\n",
    "        super().__init__()\n",
    "        # Inputs to hidden layer linear transformation\n",
    "        self.hidden = nn.Linear(784, 256)\n",
    "        # Output layer, 10 units - one for each digit\n",
    "        self.output = nn.Linear(256, 10)\n",
    "        \n",
    "    def forward(self, x):\n",
    "        # Hidden layer with sigmoid activation\n",
    "        x = F.sigmoid(self.hidden(x))\n",
    "        # Output layer with softmax activation\n",
    "        x = F.softmax(self.output(x), dim=1)\n",
    "        \n",
    "        return x"
   ]
  },
  {
   "cell_type": "markdown",
   "metadata": {},
   "source": [
    "### Activation functions\n",
    "\n",
    "So far we've only been looking at the softmax activation, but in general any function can be used as an activation function. The only requirement is that for a network to approximate a non-linear function, the activation functions must be non-linear. Here are a few more examples of common activation functions: Tanh (hyperbolic tangent), and ReLU (rectified linear unit).\n",
    "\n",
    "<img src=\"assets/activation.png\" width=700px>\n",
    "\n",
    "In practice, the ReLU function is used almost exclusively as the activation function for hidden layers."
   ]
  },
  {
   "cell_type": "markdown",
   "metadata": {},
   "source": [
    "### Your Turn to Build a Network\n",
    "\n",
    "<img src=\"assets/mlp_mnist.png\" width=600px>\n",
    "\n",
    "> **Exercise:** Create a network with 784 input units, a hidden layer with 128 units and a ReLU activation, then a hidden layer with 64 units and a ReLU activation, and finally an output layer with a softmax activation as shown above. You can use a ReLU activation with the `nn.ReLU` module or `F.relu` function."
   ]
  },
  {
   "cell_type": "code",
   "execution_count": null,
   "metadata": {
    "collapsed": true,
    "scrolled": true
   },
   "outputs": [],
   "source": [
    "## Your solution here\n"
   ]
  },
  {
   "cell_type": "markdown",
   "metadata": {},
   "source": [
    "### Initializing weights and biases\n",
    "\n",
    "The weights and such are automatically initialized for you, but it's possible to customize how they are initialized. The weights and biases are tensors attached to the layer you defined, you can get them with `model.fc1.weight` for instance."
   ]
  },
  {
   "cell_type": "code",
   "execution_count": null,
   "metadata": {
    "collapsed": true
   },
   "outputs": [],
   "source": [
    "print(model.fc1.weight)\n",
    "print(model.fc1.bias)"
   ]
  },
  {
   "cell_type": "markdown",
   "metadata": {},
   "source": [
    "For custom initialization, we want to modify these tensors in place. These are actually autograd *Variables*, so we need to get back the actual tensors with `model.fc1.weight.data`. Once we have the tensors, we can fill them with zeros (for biases) or random normal values."
   ]
  },
  {
   "cell_type": "code",
   "execution_count": null,
   "metadata": {
    "collapsed": true
   },
   "outputs": [],
   "source": [
    "# Set biases to all zeros\n",
    "model.fc1.bias.data.fill_(0)"
   ]
  },
  {
   "cell_type": "code",
   "execution_count": null,
   "metadata": {
    "collapsed": true
   },
   "outputs": [],
   "source": [
    "# sample from random normal with standard dev = 0.01\n",
    "model.fc1.weight.data.normal_(std=0.01)"
   ]
  },
  {
   "cell_type": "markdown",
   "metadata": {},
   "source": [
    "### Forward pass\n",
    "\n",
    "Now that we have a network, let's see what happens when we pass in an image."
   ]
  },
  {
   "cell_type": "code",
   "execution_count": null,
   "metadata": {
    "collapsed": true
   },
   "outputs": [],
   "source": [
    "# Grab some data \n",
    "dataiter = iter(trainloader)\n",
    "images, labels = dataiter.next()\n",
    "\n",
    "# Resize images into a 1D vector, new shape is (batch size, color channels, image pixels) \n",
    "images.resize_(64, 1, 784)\n",
    "# or images.resize_(images.shape[0], 1, 784) to automatically get batch size\n",
    "\n",
    "# Forward pass through the network\n",
    "img_idx = 0\n",
    "ps = model.forward(images[img_idx,:])\n",
    "\n",
    "img = images[img_idx]\n",
    "helper.view_classify(img.view(1, 28, 28), ps)"
   ]
  },
  {
   "cell_type": "markdown",
   "metadata": {},
   "source": [
    "As you can see above, our network has basically no idea what this digit is. It's because we haven't trained it yet, all the weights are random!\n",
    "\n",
    "### Using `nn.Sequential`\n",
    "\n",
    "PyTorch provides a convenient way to build networks like this where a tensor is passed sequentially through operations, `nn.Sequential` ([documentation](https://pytorch.org/docs/master/nn.html#torch.nn.Sequential)). Using this to build the equivalent network:"
   ]
  },
  {
   "cell_type": "code",
   "execution_count": null,
   "metadata": {
    "collapsed": true
   },
   "outputs": [],
   "source": [
    "# Hyperparameters for our network\n",
    "input_size = 784\n",
    "hidden_sizes = [128, 64]\n",
    "output_size = 10\n",
    "\n",
    "# Build a feed-forward network\n",
    "model = nn.Sequential(nn.Linear(input_size, hidden_sizes[0]),\n",
    "                      nn.ReLU(),\n",
    "                      nn.Linear(hidden_sizes[0], hidden_sizes[1]),\n",
    "                      nn.ReLU(),\n",
    "                      nn.Linear(hidden_sizes[1], output_size),\n",
    "                      nn.Softmax(dim=1))\n",
    "print(model)\n",
    "\n",
    "# Forward pass through the network and display output\n",
    "images, labels = next(iter(trainloader))\n",
    "images.resize_(images.shape[0], 1, 784)\n",
    "ps = model.forward(images[0,:])\n",
    "helper.view_classify(images[0].view(1, 28, 28), ps)"
   ]
  },
  {
   "cell_type": "markdown",
   "metadata": {},
   "source": [
    "Here our model is the same as before: 784 input units, a hidden layer with 128 units, ReLU activation, 64 unit hidden layer, another ReLU, then the output layer with 10 units, and the softmax output.\n",
    "\n",
    "The operations are availble by passing in the appropriate index. For example, if you want to get first Linear operation and look at the weights, you'd use `model[0]`."
   ]
  },
  {
   "cell_type": "code",
   "execution_count": null,
   "metadata": {
    "collapsed": true
   },
   "outputs": [],
   "source": [
    "print(model[0])\n",
    "model[0].weight"
   ]
  },
  {
   "cell_type": "markdown",
   "metadata": {},
   "source": [
    "You can also pass in an `OrderedDict` to name the individual layers and operations, instead of using incremental integers. Note that dictionary keys must be unique, so _each operation must have a different name_."
   ]
  },
  {
   "cell_type": "code",
   "execution_count": null,
   "metadata": {
    "collapsed": true
   },
   "outputs": [],
   "source": [
    "from collections import OrderedDict\n",
    "model = nn.Sequential(OrderedDict([\n",
    "                      ('fc1', nn.Linear(input_size, hidden_sizes[0])),\n",
    "                      ('relu1', nn.ReLU()),\n",
    "                      ('fc2', nn.Linear(hidden_sizes[0], hidden_sizes[1])),\n",
    "                      ('relu2', nn.ReLU()),\n",
    "                      ('output', nn.Linear(hidden_sizes[1], output_size)),\n",
    "                      ('softmax', nn.Softmax(dim=1))]))\n",
    "model"
   ]
  },
  {
   "cell_type": "markdown",
   "metadata": {},
   "source": [
    "Now you can access layers either by integer or the name"
   ]
  },
  {
   "cell_type": "code",
   "execution_count": null,
   "metadata": {
    "collapsed": true
   },
   "outputs": [],
   "source": [
    "print(model[0])\n",
    "print(model.fc1)"
   ]
  },
  {
   "cell_type": "markdown",
   "metadata": {},
   "source": [
    "In the next notebook, we'll see how we can train a neural network to accuractly predict the numbers appearing in the MNIST images."
   ]
  }
 ],
 "metadata": {
  "kernelspec": {
   "display_name": "Python [default]",
   "language": "python",
   "name": "python3"
  },
  "language_info": {
   "codemirror_mode": {
    "name": "ipython",
    "version": 3
   },
   "file_extension": ".py",
   "mimetype": "text/x-python",
   "name": "python",
   "nbconvert_exporter": "python",
   "pygments_lexer": "ipython3",
   "version": "3.6.6"
  }
 },
 "nbformat": 4,
 "nbformat_minor": 2
}
